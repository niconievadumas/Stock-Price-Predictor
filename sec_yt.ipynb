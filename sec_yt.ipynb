{
 "cells": [
  {
   "cell_type": "code",
   "execution_count": 61,
   "metadata": {},
   "outputs": [],
   "source": [
    "import requests\n",
    "import pandas as pd\n",
    "import time\n",
    "import matplotlib.pyplot as plt\n"
   ]
  },
  {
   "cell_type": "code",
   "execution_count": 73,
   "metadata": {},
   "outputs": [
    {
     "data": {
      "text/plain": [
       "Index(['cik_str', 'ticker', 'title'], dtype='object')"
      ]
     },
     "execution_count": 73,
     "metadata": {},
     "output_type": "execute_result"
    }
   ],
   "source": [
    "\n",
    "headers = {'User-Agent': 'youremail@gmail.com'}\n",
    "\n",
    "tickers = requests.get(\"https://www.sec.gov/files/company_tickers.json\")\n",
    "tickers = pd.json_normalize(pd.json_normalize(tickers.json(), max_level=0).values[0])\n",
    "tickers['cik_str'] = 'CIK000' + tickers['cik_str'].astype(str)\n",
    "\n",
    "tickers.columns\n"
   ]
  },
  {
   "cell_type": "code",
   "execution_count": 80,
   "metadata": {},
   "outputs": [
    {
     "name": "stdout",
     "output_type": "stream",
     "text": [
      "Apple Inc.\n",
      "MICROSOFT CORP\n",
      "Alphabet Inc.\n",
      "AMAZON COM INC\n",
      "BERKSHIRE HATHAWAY INC\n"
     ]
    }
   ],
   "source": [
    "for i in range(len(tickers[:5])):\n",
    "\n",
    "    print(tickers['title'][i])"
   ]
  },
  {
   "cell_type": "code",
   "execution_count": 75,
   "metadata": {},
   "outputs": [
    {
     "name": "stdout",
     "output_type": "stream",
     "text": [
      "CIK000320193\n",
      "CIK000789019\n",
      "CIK0001652044\n",
      "CIK0001018724\n",
      "CIK0001067983\n"
     ]
    }
   ],
   "source": [
    "for i in range(len(tickers[:5])):\n",
    "    print(tickers['cik_str'][i])"
   ]
  },
  {
   "cell_type": "code",
   "execution_count": 87,
   "metadata": {},
   "outputs": [
    {
     "data": {
      "text/html": [
       "<div>\n",
       "<style scoped>\n",
       "    .dataframe tbody tr th:only-of-type {\n",
       "        vertical-align: middle;\n",
       "    }\n",
       "\n",
       "    .dataframe tbody tr th {\n",
       "        vertical-align: top;\n",
       "    }\n",
       "\n",
       "    .dataframe thead th {\n",
       "        text-align: right;\n",
       "    }\n",
       "</style>\n",
       "<table border=\"1\" class=\"dataframe\">\n",
       "  <thead>\n",
       "    <tr style=\"text-align: right;\">\n",
       "      <th></th>\n",
       "      <th>end</th>\n",
       "      <th>val</th>\n",
       "      <th>accn</th>\n",
       "      <th>fy</th>\n",
       "      <th>fp</th>\n",
       "      <th>form</th>\n",
       "      <th>filed</th>\n",
       "      <th>frame</th>\n",
       "      <th>ticker</th>\n",
       "    </tr>\n",
       "  </thead>\n",
       "  <tbody>\n",
       "    <tr>\n",
       "      <th>0</th>\n",
       "      <td>2008-09-30</td>\n",
       "      <td>34981000000</td>\n",
       "      <td>0001193125-09-159678</td>\n",
       "      <td>2009</td>\n",
       "      <td>Q3</td>\n",
       "      <td>10-Q</td>\n",
       "      <td>2009-07-30</td>\n",
       "      <td>NaN</td>\n",
       "      <td>V</td>\n",
       "    </tr>\n",
       "    <tr>\n",
       "      <th>1</th>\n",
       "      <td>2008-09-30</td>\n",
       "      <td>34981000000</td>\n",
       "      <td>0001193125-09-239249</td>\n",
       "      <td>2009</td>\n",
       "      <td>FY</td>\n",
       "      <td>10-K</td>\n",
       "      <td>2009-11-20</td>\n",
       "      <td>CY2008Q3I</td>\n",
       "      <td>V</td>\n",
       "    </tr>\n",
       "    <tr>\n",
       "      <th>2</th>\n",
       "      <td>2009-06-30</td>\n",
       "      <td>32624000000</td>\n",
       "      <td>0001193125-09-159678</td>\n",
       "      <td>2009</td>\n",
       "      <td>Q3</td>\n",
       "      <td>10-Q</td>\n",
       "      <td>2009-07-30</td>\n",
       "      <td>CY2009Q2I</td>\n",
       "      <td>V</td>\n",
       "    </tr>\n",
       "    <tr>\n",
       "      <th>3</th>\n",
       "      <td>2009-09-30</td>\n",
       "      <td>32281000000</td>\n",
       "      <td>0001193125-09-239249</td>\n",
       "      <td>2009</td>\n",
       "      <td>FY</td>\n",
       "      <td>10-K</td>\n",
       "      <td>2009-11-20</td>\n",
       "      <td>NaN</td>\n",
       "      <td>V</td>\n",
       "    </tr>\n",
       "    <tr>\n",
       "      <th>4</th>\n",
       "      <td>2009-09-30</td>\n",
       "      <td>32281000000</td>\n",
       "      <td>0001193125-10-020834</td>\n",
       "      <td>2010</td>\n",
       "      <td>Q1</td>\n",
       "      <td>10-Q</td>\n",
       "      <td>2010-02-03</td>\n",
       "      <td>NaN</td>\n",
       "      <td>V</td>\n",
       "    </tr>\n",
       "    <tr>\n",
       "      <th>...</th>\n",
       "      <td>...</td>\n",
       "      <td>...</td>\n",
       "      <td>...</td>\n",
       "      <td>...</td>\n",
       "      <td>...</td>\n",
       "      <td>...</td>\n",
       "      <td>...</td>\n",
       "      <td>...</td>\n",
       "      <td>...</td>\n",
       "    </tr>\n",
       "    <tr>\n",
       "      <th>105</th>\n",
       "      <td>2022-03-31</td>\n",
       "      <td>81808000000</td>\n",
       "      <td>0001403161-22-000027</td>\n",
       "      <td>2022</td>\n",
       "      <td>Q2</td>\n",
       "      <td>10-Q</td>\n",
       "      <td>2022-04-28</td>\n",
       "      <td>CY2022Q1I</td>\n",
       "      <td>V</td>\n",
       "    </tr>\n",
       "    <tr>\n",
       "      <th>106</th>\n",
       "      <td>2022-06-30</td>\n",
       "      <td>85410000000</td>\n",
       "      <td>0001403161-22-000058</td>\n",
       "      <td>2022</td>\n",
       "      <td>Q3</td>\n",
       "      <td>10-Q</td>\n",
       "      <td>2022-07-28</td>\n",
       "      <td>CY2022Q2I</td>\n",
       "      <td>V</td>\n",
       "    </tr>\n",
       "    <tr>\n",
       "      <th>107</th>\n",
       "      <td>2022-09-30</td>\n",
       "      <td>85501000000</td>\n",
       "      <td>0001403161-22-000081</td>\n",
       "      <td>2022</td>\n",
       "      <td>FY</td>\n",
       "      <td>10-K</td>\n",
       "      <td>2022-11-16</td>\n",
       "      <td>NaN</td>\n",
       "      <td>V</td>\n",
       "    </tr>\n",
       "    <tr>\n",
       "      <th>108</th>\n",
       "      <td>2022-09-30</td>\n",
       "      <td>85501000000</td>\n",
       "      <td>0001403161-23-000013</td>\n",
       "      <td>2023</td>\n",
       "      <td>Q1</td>\n",
       "      <td>10-Q</td>\n",
       "      <td>2023-01-27</td>\n",
       "      <td>CY2022Q3I</td>\n",
       "      <td>V</td>\n",
       "    </tr>\n",
       "    <tr>\n",
       "      <th>109</th>\n",
       "      <td>2022-12-31</td>\n",
       "      <td>85387000000</td>\n",
       "      <td>0001403161-23-000013</td>\n",
       "      <td>2023</td>\n",
       "      <td>Q1</td>\n",
       "      <td>10-Q</td>\n",
       "      <td>2023-01-27</td>\n",
       "      <td>CY2022Q4I</td>\n",
       "      <td>V</td>\n",
       "    </tr>\n",
       "  </tbody>\n",
       "</table>\n",
       "<p>920 rows × 9 columns</p>\n",
       "</div>"
      ],
      "text/plain": [
       "            end          val                  accn    fy  fp  form  \\\n",
       "0    2008-09-30  34981000000  0001193125-09-159678  2009  Q3  10-Q   \n",
       "1    2008-09-30  34981000000  0001193125-09-239249  2009  FY  10-K   \n",
       "2    2009-06-30  32624000000  0001193125-09-159678  2009  Q3  10-Q   \n",
       "3    2009-09-30  32281000000  0001193125-09-239249  2009  FY  10-K   \n",
       "4    2009-09-30  32281000000  0001193125-10-020834  2010  Q1  10-Q   \n",
       "..          ...          ...                   ...   ...  ..   ...   \n",
       "105  2022-03-31  81808000000  0001403161-22-000027  2022  Q2  10-Q   \n",
       "106  2022-06-30  85410000000  0001403161-22-000058  2022  Q3  10-Q   \n",
       "107  2022-09-30  85501000000  0001403161-22-000081  2022  FY  10-K   \n",
       "108  2022-09-30  85501000000  0001403161-23-000013  2023  Q1  10-Q   \n",
       "109  2022-12-31  85387000000  0001403161-23-000013  2023  Q1  10-Q   \n",
       "\n",
       "          filed      frame ticker  \n",
       "0    2009-07-30        NaN      V  \n",
       "1    2009-11-20  CY2008Q3I      V  \n",
       "2    2009-07-30  CY2009Q2I      V  \n",
       "3    2009-11-20        NaN      V  \n",
       "4    2010-02-03        NaN      V  \n",
       "..          ...        ...    ...  \n",
       "105  2022-04-28  CY2022Q1I      V  \n",
       "106  2022-07-28  CY2022Q2I      V  \n",
       "107  2022-11-16        NaN      V  \n",
       "108  2023-01-27  CY2022Q3I      V  \n",
       "109  2023-01-27  CY2022Q4I      V  \n",
       "\n",
       "[920 rows x 9 columns]"
      ]
     },
     "execution_count": 87,
     "metadata": {},
     "output_type": "execute_result"
    }
   ],
   "source": [
    "full = pd.DataFrame()\n",
    "for i in range(len(tickers[:9])):\n",
    "    time.sleep(.1)\n",
    "    try:\n",
    "        response = requests.get(f\"https://data.sec.gov/api/xbrl/companyconcept/{tickers['cik_str'][i]}/us-gaap/Assets.json\", headers=headers)\n",
    "        assets = pd.json_normalize(response.json()['units']['USD'])\n",
    "        assets['ticker'] = tickers['ticker'][i]\n",
    "    except:\n",
    "        pass\n",
    "    \n",
    "    full = pd.concat([assets, full], axis=0)   \n",
    "    \n",
    "full     \n",
    "        "
   ]
  },
  {
   "cell_type": "code",
   "execution_count": 113,
   "metadata": {},
   "outputs": [
    {
     "data": {
      "image/png": "[encoded data removed]",
      "text/plain": [
       "<Figure size 1800x1200 with 1 Axes>"
      ]
     },
     "metadata": {},
     "output_type": "display_data"
    }
   ],
   "source": [
    "googl = full[['filed', 'val']][full['ticker'] == 'GOOGL'].set_index('filed')\n",
    "googl.plot(figsize=(18,12), title='Activos totales', xlabel='Fechas', ylabel='Activos totales')\n",
    "\n",
    "plt.show()"
   ]
  },
  {
   "cell_type": "code",
   "execution_count": 103,
   "metadata": {},
   "outputs": [
    {
     "data": {
      "text/plain": [
       "{'AMZN', 'BRK-B', 'GOOGL', 'META', 'NVDA', 'TSLA', 'V'}"
      ]
     },
     "execution_count": 103,
     "metadata": {},
     "output_type": "execute_result"
    }
   ],
   "source": [
    "set(full['ticker'])"
   ]
  }
 ],
 "metadata": {
  "kernelspec": {
   "display_name": "stockpp",
   "language": "python",
   "name": "python3"
  },
  "language_info": {
   "codemirror_mode": {
    "name": "ipython",
    "version": 3
   },
   "file_extension": ".py",
   "mimetype": "text/x-python",
   "name": "python",
   "nbconvert_exporter": "python",
   "pygments_lexer": "ipython3",
   "version": "3.10.4"
  },
  "orig_nbformat": 4,
  "vscode": {
   "interpreter": {
    "hash": "c4a88d6de0e5dfc8eabc2632f8995da6da2ec6abc4b31c864ee50922734b2380"
   }
  }
 },
 "nbformat": 4,
 "nbformat_minor": 2
}
